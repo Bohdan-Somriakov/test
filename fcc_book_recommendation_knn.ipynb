{
  "cells": [
    {
      "cell_type": "code",
      "execution_count": 1,
      "metadata": {
        "id": "Y1onB6kUvo4Z"
      },
      "outputs": [],
      "source": [
        "# import libraries (you may add additional imports but you may not have to)\n",
        "import numpy as np\n",
        "import pandas as pd\n",
        "from scipy.sparse import csr_matrix\n",
        "from sklearn.neighbors import NearestNeighbors\n",
        "import matplotlib.pyplot as plt"
      ]
    },
    {
      "cell_type": "code",
      "execution_count": 2,
      "metadata": {
        "id": "iAQGqqO_vo4d",
        "outputId": "f79ac90c-82f2-4133-949e-81f8ba78ebc4",
        "colab": {
          "base_uri": "https://localhost:8080/"
        }
      },
      "outputs": [
        {
          "output_type": "stream",
          "name": "stdout",
          "text": [
            "--2024-12-22 15:32:35--  https://cdn.freecodecamp.org/project-data/books/book-crossings.zip\n",
            "Resolving cdn.freecodecamp.org (cdn.freecodecamp.org)... 104.26.2.33, 104.26.3.33, 172.67.70.149, ...\n",
            "Connecting to cdn.freecodecamp.org (cdn.freecodecamp.org)|104.26.2.33|:443... connected.\n",
            "HTTP request sent, awaiting response... 200 OK\n",
            "Length: 26085508 (25M) [application/zip]\n",
            "Saving to: ‘book-crossings.zip.3’\n",
            "\n",
            "book-crossings.zip. 100%[===================>]  24.88M   146MB/s    in 0.2s    \n",
            "\n",
            "2024-12-22 15:32:35 (146 MB/s) - ‘book-crossings.zip.3’ saved [26085508/26085508]\n",
            "\n",
            "Archive:  book-crossings.zip\n",
            "replace BX-Book-Ratings.csv? [y]es, [n]o, [A]ll, [N]one, [r]ename: A\n",
            "  inflating: BX-Book-Ratings.csv     \n",
            "  inflating: BX-Books.csv            \n",
            "  inflating: BX-Users.csv            \n"
          ]
        }
      ],
      "source": [
        "# get data files\n",
        "!wget https://cdn.freecodecamp.org/project-data/books/book-crossings.zip\n",
        "\n",
        "!unzip book-crossings.zip\n",
        "\n",
        "books_filename = 'BX-Books.csv'\n",
        "ratings_filename = 'BX-Book-Ratings.csv'"
      ]
    },
    {
      "cell_type": "code",
      "execution_count": 5,
      "metadata": {
        "id": "NClILWOiEd6Q"
      },
      "outputs": [],
      "source": [
        "# import csv data into dataframes\n",
        "\n",
        "df_books = pd.read_csv(\n",
        "    books_filename,\n",
        "    encoding = \"ISO-8859-1\",\n",
        "    sep=\";\",\n",
        "    header=0,\n",
        "    names=['bookId', 'title', 'author'],\n",
        "    usecols=['bookId', 'title', 'author'],\n",
        "    dtype={'bookId': 'str', 'title': 'str', 'author': 'str'})\n",
        "\n",
        "df_ratings = pd.read_csv(\n",
        "    ratings_filename,\n",
        "    encoding = \"ISO-8859-1\",\n",
        "    sep=\";\",\n",
        "    header=0,\n",
        "    names=['userId', 'bookId', 'rating'],\n",
        "    usecols=['userId', 'bookId', 'rating'],\n",
        "    dtype={'userId': 'int32', 'bookId': 'str', 'rating': 'float32'})\n"
      ]
    },
    {
      "cell_type": "code",
      "execution_count": 6,
      "metadata": {
        "id": "xAcXjkCFCh0A"
      },
      "outputs": [],
      "source": [
        "# add your code here - consider creating a new cell for each section of code\n",
        "\n",
        "# get list of users to remove\n",
        "user_ratingCount = (df_ratings.\n",
        "     groupby(by = ['userId'])['rating'].\n",
        "     count().\n",
        "     reset_index().\n",
        "     rename(columns = {'rating': 'totalRatingCount'})\n",
        "     [['userId', 'totalRatingCount']]\n",
        ")\n",
        "users_to_remove = user_ratingCount.query('totalRatingCount > 200').userId.tolist()\n",
        "\n",
        "# merge rating and catalog by bookId\n",
        "df = pd.merge(df_ratings,df_books,on='bookId')\n",
        "\n",
        "# create totalRatingCount\n",
        "book_ratingCount = (df.\n",
        "     groupby(by = ['title'])['rating'].\n",
        "     count().\n",
        "     reset_index().\n",
        "     rename(columns = {'rating': 'totalRatingCount'})\n",
        "     [['title', 'totalRatingCount']]\n",
        "    )\n",
        "\n",
        "rating_with_totalRatingCount = df.merge(book_ratingCount, left_on = 'title', right_on = 'title', how = 'left')\n",
        "pd.set_option('display.float_format', lambda x: '%.3f' % x)\n",
        "\n",
        "# remove books with less than 100 ratings\n",
        "rating_popular_movie = rating_with_totalRatingCount.query('totalRatingCount > 100')\n",
        "\n",
        "# remove from the dataset users with less than 200 ratings\n",
        "rating_popular_movie = rating_popular_movie[rating_popular_movie['userId'].isin(users_to_remove)]\n",
        "\n",
        "# drop duplicates\n",
        "#rating_popular_movie.drop_duplicates(subset=['title'], keep=False, inplace=True)\n",
        "\n",
        "# pivot table and create matrix\n",
        "book_features_df = rating_popular_movie.pivot_table(index='title',columns='userId',values='rating').fillna(0)\n",
        "book_features_df_matrix = csr_matrix(book_features_df.values)"
      ]
    },
    {
      "cell_type": "code",
      "source": [
        "print(book_features_df_matrix)\n",
        "print()\n",
        "#print(book_features_df_matrix)"
      ],
      "metadata": {
        "id": "Qd5qUmELAPoX",
        "outputId": "266434f7-5567-4be8-b5d0-d8c437052389",
        "colab": {
          "base_uri": "https://localhost:8080/"
        }
      },
      "execution_count": 19,
      "outputs": [
        {
          "output_type": "stream",
          "name": "stdout",
          "text": [
            "  (0, 0)\t9.0\n",
            "  (0, 16)\t8.0\n",
            "  (0, 26)\t3.3333332538604736\n",
            "  (0, 37)\t9.0\n",
            "  (0, 42)\t8.0\n",
            "  (0, 59)\t7.0\n",
            "  (0, 136)\t9.0\n",
            "  (0, 157)\t10.0\n",
            "  (0, 171)\t9.0\n",
            "  (0, 188)\t8.0\n",
            "  (0, 221)\t10.0\n",
            "  (0, 222)\t10.0\n",
            "  (0, 246)\t5.0\n",
            "  (0, 278)\t10.0\n",
            "  (0, 360)\t10.0\n",
            "  (0, 371)\t9.0\n",
            "  (0, 390)\t10.0\n",
            "  (0, 477)\t9.0\n",
            "  (0, 491)\t7.0\n",
            "  (0, 507)\t9.0\n",
            "  (0, 554)\t10.0\n",
            "  (0, 603)\t9.0\n",
            "  (0, 610)\t8.0\n",
            "  (0, 694)\t9.0\n",
            "  (0, 733)\t9.0\n",
            "  :\t:\n",
            "  (903, 16)\t8.0\n",
            "  (903, 26)\t3.5\n",
            "  (903, 86)\t10.0\n",
            "  (903, 104)\t2.5\n",
            "  (903, 112)\t5.0\n",
            "  (903, 151)\t6.0\n",
            "  (903, 234)\t7.0\n",
            "  (903, 291)\t8.0\n",
            "  (903, 304)\t9.0\n",
            "  (903, 323)\t10.0\n",
            "  (903, 368)\t10.0\n",
            "  (903, 385)\t9.0\n",
            "  (903, 446)\t7.0\n",
            "  (903, 450)\t9.0\n",
            "  (903, 485)\t7.0\n",
            "  (903, 490)\t3.0\n",
            "  (903, 498)\t10.0\n",
            "  (903, 505)\t8.0\n",
            "  (903, 544)\t10.0\n",
            "  (903, 592)\t8.0\n",
            "  (903, 699)\t10.0\n",
            "  (903, 712)\t8.0\n",
            "  (903, 744)\t10.0\n",
            "  (903, 829)\t9.0\n",
            "  (903, 879)\t8.0\n",
            "\n"
          ]
        }
      ]
    },
    {
      "cell_type": "code",
      "execution_count": 20,
      "metadata": {
        "id": "f5ZUd-L1SQz7"
      },
      "outputs": [],
      "source": [
        "# function to return recommended books - this will be tested\n",
        "def get_recommends(book = \"\"):\n",
        "    model_knn = NearestNeighbors(metric = 'cosine', n_neighbors=5, algorithm='auto')\n",
        "    model_knn.fit(book_features_df_matrix)\n",
        "\n",
        "    # found book TODO: user a better search\n",
        "    for query_index in range(len(book_features_df)):\n",
        "        if book_features_df.index[query_index] == book:\n",
        "            break\n",
        "\n",
        "    # creating return structure\n",
        "    ret = [book_features_df.index[query_index], []]\n",
        "    distances, indices = model_knn.kneighbors(book_features_df.iloc[query_index,:].values.reshape(1, -1))\n",
        "    # now we located the book. lets show the recomendations\n",
        "    for i in range(1, len(distances.flatten())):\n",
        "        ret[1].insert(0, [book_features_df.index[indices.flatten()[i]], distances.flatten()[i]])\n",
        "    return ret"
      ]
    },
    {
      "cell_type": "code",
      "execution_count": 21,
      "metadata": {
        "id": "jd2SLCh8oxMh",
        "outputId": "761d52ab-931a-4589-e02f-6a55ee59ecad",
        "colab": {
          "base_uri": "https://localhost:8080/"
        }
      },
      "outputs": [
        {
          "output_type": "stream",
          "name": "stdout",
          "text": [
            "[\"Where the Heart Is (Oprah's Book Club (Paperback))\", [['The Weight of Water', 0.77085835], ['I Know This Much Is True', 0.7529293], ['The Lovely Bones: A Novel', 0.7230184], ['Blue Diary', 0.71828747]]]\n",
            "You passed the challenge! 🎉🎉🎉🎉🎉\n"
          ]
        }
      ],
      "source": [
        "books = get_recommends(\"Where the Heart Is (Oprah's Book Club (Paperback))\")\n",
        "print(books)\n",
        "\n",
        "def test_book_recommendation():\n",
        "  test_pass = True\n",
        "  recommends = get_recommends(\"Where the Heart Is (Oprah's Book Club (Paperback))\")\n",
        "  if recommends[0] != \"Where the Heart Is (Oprah's Book Club (Paperback))\":\n",
        "    test_pass = False\n",
        "  recommended_books = [\"I'll Be Seeing You\", 'The Weight of Water', 'The Surgeon', 'I Know This Much Is True']\n",
        "  recommended_books_dist = [0.8, 0.77, 0.77, 0.77]\n",
        "  for i in range(2):\n",
        "    if recommends[1][i][0] not in recommended_books:\n",
        "      test_pass = False\n",
        "    if abs(recommends[1][i][1] - recommended_books_dist[i]) >= 0.05:\n",
        "      test_pass = False\n",
        "  if test_pass:\n",
        "    print(\"You passed the challenge! 🎉🎉🎉🎉🎉\")\n",
        "  else:\n",
        "    print(\"You haven't passed yet. Keep trying!\")\n",
        "\n",
        "test_book_recommendation()"
      ]
    }
  ],
  "metadata": {
    "colab": {
      "name": "fcc_book_recommendation_knn.ipynb",
      "provenance": []
    },
    "kernelspec": {
      "display_name": "Python 3",
      "language": "python",
      "name": "python3"
    },
    "language_info": {
      "codemirror_mode": {
        "name": "ipython",
        "version": 3
      },
      "file_extension": ".py",
      "mimetype": "text/x-python",
      "name": "python",
      "nbconvert_exporter": "python",
      "pygments_lexer": "ipython3",
      "version": "3.6.5"
    }
  },
  "nbformat": 4,
  "nbformat_minor": 0
}