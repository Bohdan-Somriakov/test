{
  "cells": [
    {
      "cell_type": "code",
      "execution_count": null,
      "metadata": {
        "id": "1rRo8oNqZ-Rj"
      },
      "outputs": [],
      "source": [
        "# Import libraries. You may or may not use all of these.\n",
        "!pip install -q git+https://github.com/tensorflow/docs\n",
        "import matplotlib.pyplot as plt\n",
        "import numpy as np\n",
        "import pandas as pd\n",
        "\n",
        "try:\n",
        "  # %tensorflow_version only exists in Colab.\n",
        "  %tensorflow_version 2.x\n",
        "except Exception:\n",
        "  pass\n",
        "import tensorflow as tf\n",
        "\n",
        "from tensorflow import keras\n",
        "from tensorflow.keras import layers\n",
        "\n",
        "import tensorflow_docs as tfdocs\n",
        "import tensorflow_docs.plots\n",
        "import tensorflow_docs.modeling"
      ]
    },
    {
      "cell_type": "code",
      "execution_count": null,
      "metadata": {
        "id": "CiX2FI4gZtTt"
      },
      "outputs": [],
      "source": [
        "# Import data\n",
        "!wget https://cdn.freecodecamp.org/project-data/health-costs/insurance.csv\n",
        "dataset = pd.read_csv('insurance.csv')\n",
        "dataset.tail()"
      ]
    },
    {
      "cell_type": "code",
      "execution_count": null,
      "metadata": {
        "id": "LcopvQh3X-kX"
      },
      "outputs": [],
      "source": [
        "dataset['sex'].replace(('male', 'female'),  (1,0), inplace=True)\n",
        "dataset['smoker'].replace(('no','yes'), (0,1), inplace = True)\n",
        "dataset = pd.get_dummies(dataset, columns=['region'])\n",
        "dataset = dataset.astype(int)\n",
        "dataset.tail()"
      ]
    },
    {
      "cell_type": "code",
      "source": [
        "train_dataset = dataset.sample(frac=0.8,random_state=0)\n",
        "test_dataset = dataset.drop(train_dataset.index)\n",
        "\n",
        "train_features = train_dataset.copy()\n",
        "test_features = test_dataset.copy()\n",
        "train_labels = train_features.pop('expenses')\n",
        "test_labels = test_features.pop('expenses')"
      ],
      "metadata": {
        "id": "QPtwdyqH7DLG"
      },
      "execution_count": null,
      "outputs": []
    },
    {
      "cell_type": "code",
      "source": [
        "def norm_data(df):\n",
        "  return (df-df.min())/(df.max()-df.min())\n",
        "\n",
        "train_features_norm = norm_data(train_features)\n",
        "test_features_norm = norm_data(test_features)\n",
        "train_features_norm.head()\n"
      ],
      "metadata": {
        "id": "1nlVTG5O_ZxG"
      },
      "execution_count": null,
      "outputs": []
    },
    {
      "cell_type": "code",
      "source": [
        "train_features_arr = np.array(train_features_norm)\n",
        "test_features_arr = np.array(test_features_norm)\n",
        "train_labels_arr = np.array(train_labels)\n",
        "test_labels_arr = np.array(test_labels)\n",
        "\n",
        "#normalizer = layers.experimental.preprocessing.Normalization()\n",
        "#normalizer.adapt(np.array(train_dataset))\n",
        "\n",
        "model = tf.keras.Sequential([\n",
        "    tf.keras.layers.Input(shape=(train_features_arr.shape[1],)),\n",
        "    tf.keras.layers.Dense(64, activation='relu'),\n",
        "    tf.keras.layers.Dense(32, activation='relu'),\n",
        "    tf.keras.layers.Dense(16, activation='relu'),\n",
        "    tf.keras.layers.Dense(1)\n",
        "])\n",
        "model.summary()"
      ],
      "metadata": {
        "id": "_y9NGLfjX23f"
      },
      "execution_count": null,
      "outputs": []
    },
    {
      "cell_type": "code",
      "source": [
        "model.compile(\n",
        "    optimizer=tf.keras.optimizers.Adam(learning_rate=0.1),\n",
        "    loss='mean_absolute_error',\n",
        "    metrics = ['mae','mse']\n",
        ")"
      ],
      "metadata": {
        "id": "ShYTHGERf78O"
      },
      "execution_count": null,
      "outputs": []
    },
    {
      "cell_type": "code",
      "source": [
        "model.fit(\n",
        "    x=train_features_arr,\n",
        "    y=train_labels_arr,\n",
        "    batch_size = 25,\n",
        "    epochs = 100,\n",
        "    validation_split = 0.2\n",
        ")"
      ],
      "metadata": {
        "id": "RFeSnVeFgnHt"
      },
      "execution_count": null,
      "outputs": []
    },
    {
      "cell_type": "code",
      "execution_count": null,
      "metadata": {
        "id": "Xe7RXH3N3CWU"
      },
      "outputs": [],
      "source": [
        "# RUN THIS CELL TO TEST YOUR MODEL. DO NOT MODIFY CONTENTS.\n",
        "# Test model by checking how well the model generalizes using the test set.\n",
        "loss, mae, mse = model.evaluate(test_features_arr, test_labels_arr, verbose=2)\n",
        "\n",
        "print(\"Testing set Mean Abs Error: {:5.2f} expenses\".format(mae))\n",
        "\n",
        "if mae < 3500:\n",
        "  print(\"You passed the challenge. Great job!\")\n",
        "else:\n",
        "  print(\"The Mean Abs Error must be less than 3500. Keep trying.\")\n",
        "\n",
        "test_predictions = model.predict(test_features_arr).flatten()\n",
        "\n",
        "\n",
        "a = plt.axes(aspect='equal')\n",
        "\n",
        "plt.scatter(test_labels, test_predictions, label='Predictions', color='blue')\n",
        "\n",
        "plt.scatter(test_labels, test_labels, label='True values', color='red')\n",
        "\n",
        "plt.xlabel('True values (expenses)')\n",
        "plt.ylabel('Predictions (expenses)')\n",
        "lims = [0, 50000]\n",
        "plt.xlim(lims)\n",
        "plt.ylim(lims)\n",
        "\n",
        "_ = plt.plot(lims, lims, color='black', linestyle='--')\n",
        "\n",
        "plt.legend()\n",
        "\n",
        "plt.show()\n"
      ]
    },
    {
      "cell_type": "code",
      "source": [
        "new_input = np.array([[5000, 25, 3, 1, 4, 100, 12, 200, 1]])\n",
        "\n",
        "new_input_normalized = normalize(new_input)\n",
        "\n",
        "prediction = model.predict(new_input_normalized)\n",
        "\n",
        "print(\"Predicted value (expenses):\", prediction[0])"
      ],
      "metadata": {
        "id": "amdg9G5KrFov"
      },
      "execution_count": null,
      "outputs": []
    }
  ],
  "metadata": {
    "colab": {
      "name": "fcc_predict_health_costs_with_regression.ipynb",
      "private_outputs": true,
      "provenance": [],
      "toc_visible": true,
      "gpuType": "T4"
    },
    "kernelspec": {
      "display_name": "Python 3",
      "name": "python3"
    },
    "accelerator": "GPU"
  },
  "nbformat": 4,
  "nbformat_minor": 0
}